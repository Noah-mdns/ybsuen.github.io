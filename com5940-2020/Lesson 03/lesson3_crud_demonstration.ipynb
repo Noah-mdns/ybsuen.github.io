{
 "cells": [
  {
   "cell_type": "code",
   "execution_count": 7,
   "metadata": {},
   "outputs": [
    {
     "name": "stdout",
     "output_type": "stream",
     "text": [
      "[{'productID': '1006', 'productCode': 'PEC', 'name': 'Pencil HB', 'quantity': 0, 'price': 99999.99, 'supplierID': '501', 'link-to-product-type': ['rechIqwrLbYB8DxGM'], 'record_id': 'recVCPApuUz6hHtja'}, {'productID': '2001', 'productCode': 'PEC', 'name': 'Pencil 3B', 'quantity': 500, 'price': 0.52, 'supplierID': '503', 'link-to-product-type': ['rechIqwrLbYB8DxGM'], 'record_id': 'rec3a5OT6aiD6BtFi'}, {'productID': '2004', 'productCode': 'PEC', 'name': 'Pencil 6B', 'quantity': 500, 'price': 0.47, 'supplierID': '502', 'link-to-product-type': ['rechIqwrLbYB8DxGM'], 'record_id': 'recznH6EiyFvXfVun'}, {'productID': '1002', 'productCode': 'PEN', 'name': 'Pen Blue', 'quantity': 8000, 'price': 1.25, 'supplierID': '501', 'link-to-product-type': ['rec08NOK4qvU6QYwj'], 'record_id': 'reczpU2sKSjXtwhZ3'}, {'productID': '1004', 'productCode': 'PEC', 'name': 'Pencil 2B', 'quantity': 10000, 'price': 0.48, 'supplierID': '501', 'link-to-product-type': ['rechIqwrLbYB8DxGM'], 'record_id': 'recK73LOkp33AfY8Z'}, {'productID': '2002', 'productCode': 'PEC', 'name': 'Pencil 4B', 'quantity': 200, 'price': 0.62, 'supplierID': '501', 'link-to-product-type': ['rechIqwrLbYB8DxGM'], 'record_id': 'recNRJL0CXdzvyr1M'}, {'productID': '1001', 'productCode': 'PEN', 'name': 'Pen Red', 'quantity': 5000, 'price': 1.23, 'supplierID': '501', 'link-to-product-type': ['rec08NOK4qvU6QYwj'], 'record_id': 'recSuYjfVpVEPcP0L'}, {'productID': '2003', 'productCode': 'PEC', 'name': 'Pencil 5B', 'quantity': 100, 'price': 0.73, 'supplierID': '503', 'link-to-product-type': ['rechIqwrLbYB8DxGM'], 'record_id': 'recS8ewzvtj2qcBHi'}, {'productID': '1003', 'productCode': 'PEN', 'name': 'Pen Black', 'quantity': 2000, 'price': 1.25, 'supplierID': '501', 'link-to-product-type': ['rec08NOK4qvU6QYwj'], 'record_id': 'recmK3Tc4WOZI83mo'}, {'productID': '1005', 'productCode': 'PEC', 'name': 'Pencil 2H', 'quantity': 8000, 'price': 0.49, 'supplierID': '502', 'link-to-product-type': ['rechIqwrLbYB8DxGM'], 'record_id': 'recp2FHV7XmUV16f9'}]\n",
      "\n",
      "\n",
      "  productID productCode       name  quantity     price supplierID  \\\n",
      "0      1006         PEC  Pencil HB         0  99999.99        501   \n",
      "1      2001         PEC  Pencil 3B       500      0.52        503   \n",
      "2      2004         PEC  Pencil 6B       500      0.47        502   \n",
      "3      1002         PEN   Pen Blue      8000      1.25        501   \n",
      "4      1004         PEC  Pencil 2B     10000      0.48        501   \n",
      "5      2002         PEC  Pencil 4B       200      0.62        501   \n",
      "6      1001         PEN    Pen Red      5000      1.23        501   \n",
      "7      2003         PEC  Pencil 5B       100      0.73        503   \n",
      "8      1003         PEN  Pen Black      2000      1.25        501   \n",
      "9      1005         PEC  Pencil 2H      8000      0.49        502   \n",
      "\n",
      "  link-to-product-type          record_id  \n",
      "0  [rechIqwrLbYB8DxGM]  recVCPApuUz6hHtja  \n",
      "1  [rechIqwrLbYB8DxGM]  rec3a5OT6aiD6BtFi  \n",
      "2  [rechIqwrLbYB8DxGM]  recznH6EiyFvXfVun  \n",
      "3  [rec08NOK4qvU6QYwj]  reczpU2sKSjXtwhZ3  \n",
      "4  [rechIqwrLbYB8DxGM]  recK73LOkp33AfY8Z  \n",
      "5  [rechIqwrLbYB8DxGM]  recNRJL0CXdzvyr1M  \n",
      "6  [rec08NOK4qvU6QYwj]  recSuYjfVpVEPcP0L  \n",
      "7  [rechIqwrLbYB8DxGM]  recS8ewzvtj2qcBHi  \n",
      "8  [rec08NOK4qvU6QYwj]  recmK3Tc4WOZI83mo  \n",
      "9  [rechIqwrLbYB8DxGM]  recp2FHV7XmUV16f9  \n",
      "\n",
      "\n",
      "['Pencil HB', 'Pencil 3B', 'Pencil 6B', 'Pen Blue', 'Pencil 2B', 'Pencil 4B', 'Pen Red', 'Pencil 5B', 'Pen Black', 'Pencil 2H']\n",
      "           0\n",
      "0  Pencil HB\n",
      "1  Pencil 3B\n",
      "2  Pencil 6B\n",
      "3   Pen Blue\n",
      "4  Pencil 2B\n",
      "5  Pencil 4B\n",
      "6    Pen Red\n",
      "7  Pencil 5B\n",
      "8  Pen Black\n",
      "9  Pencil 2H\n",
      "\n",
      "\n",
      "Showing first 5 entries            0\n",
      "0  Pencil HB\n",
      "1  Pencil 3B\n",
      "2  Pencil 6B\n",
      "3   Pen Blue\n",
      "4  Pencil 2B\n"
     ]
    }
   ],
   "source": [
    "import requests\n",
    "import pandas as pd \n",
    "headers = {\n",
    "'Authorization': 'Bearer keycj6dRwXwYLEjiv',\n",
    "}\n",
    "\n",
    "params = (\n",
    "('view', 'Main'),\n",
    ")\n",
    "\n",
    "r = requests.get('https://api.airtable.com/v0/appVFIVS0NkWT41fM/products?api_key=keycj6dRwXwYLEjiv&sortField=_createdTime&sortDirection=desc', headers=headers, params=params)\n",
    "dict = r.json()\n",
    "dataset = []\n",
    "productID = []\n",
    "productCode = []\n",
    "name = []\n",
    "for i in dict['records']:\n",
    "     dict = i['fields']\n",
    "     dataset.append(dict)\n",
    "print(dataset)\n",
    "print('\\n')\n",
    "print(pd.DataFrame(dataset))\n",
    "print('\\n')\n",
    "for dicts in dataset:\n",
    "    productID.append(dicts.get('productID'))\n",
    "    productCode.append(dicts.get('productCode'))\n",
    "    name.append(dicts.get('name'))\n",
    "print(name)\n",
    "df = pd.DataFrame(name)\n",
    "print(pd.DataFrame(name))\n",
    "\n",
    "print(\"Showing first 5 entries\",df.head(5))"
   ]
  },
  {
   "cell_type": "markdown",
   "metadata": {},
   "source": [
    "<center><h1>MySQL Data Manipulation</h1></center>"
   ]
  },
  {
   "cell_type": "markdown",
   "metadata": {},
   "source": [
    "# Retrieve MySQL Records"
   ]
  },
  {
   "cell_type": "code",
   "execution_count": 29,
   "metadata": {},
   "outputs": [
    {
     "name": "stdout",
     "output_type": "stream",
     "text": [
      "[{'productID': 1001, 'productCode': 'PEN', 'name': 'Pen Red', 'quantity': 5000, 'price': Decimal('1.23'), 'supplierID': 501}, {'productID': 1002, 'productCode': 'PEN', 'name': 'Pen Blue', 'quantity': 8000, 'price': Decimal('1.25'), 'supplierID': 501}, {'productID': 1003, 'productCode': 'PEN', 'name': 'Pen Black', 'quantity': 2000, 'price': Decimal('1.25'), 'supplierID': 501}, {'productID': 1004, 'productCode': 'PEC', 'name': 'Pencil 2B', 'quantity': 10000, 'price': Decimal('0.48'), 'supplierID': 501}, {'productID': 1005, 'productCode': 'PEC', 'name': 'Pencil 2H', 'quantity': 8000, 'price': Decimal('0.49'), 'supplierID': 502}, {'productID': 1006, 'productCode': 'PEC', 'name': 'Pencil HB', 'quantity': 0, 'price': Decimal('99999.99'), 'supplierID': 501}, {'productID': 2001, 'productCode': 'PEC', 'name': 'Pencil 3B', 'quantity': 500, 'price': Decimal('0.52'), 'supplierID': 503}, {'productID': 2002, 'productCode': 'PEC', 'name': 'Pencil 4B', 'quantity': 200, 'price': Decimal('0.62'), 'supplierID': 501}, {'productID': 2003, 'productCode': 'PEC', 'name': 'Pencil 5B', 'quantity': 100, 'price': Decimal('0.73'), 'supplierID': 503}, {'productID': 2004, 'productCode': 'PEC', 'name': 'Pencil 6B', 'quantity': 500, 'price': Decimal('0.47'), 'supplierID': 502}]\n",
      "   productID productCode       name  quantity     price  supplierID\n",
      "0       1001         PEN    Pen Red      5000      1.23         501\n",
      "1       1002         PEN   Pen Blue      8000      1.25         501\n",
      "2       1003         PEN  Pen Black      2000      1.25         501\n",
      "3       1004         PEC  Pencil 2B     10000      0.48         501\n",
      "4       1005         PEC  Pencil 2H      8000      0.49         502\n",
      "5       1006         PEC  Pencil HB         0  99999.99         501\n",
      "6       2001         PEC  Pencil 3B       500      0.52         503\n",
      "7       2002         PEC  Pencil 4B       200      0.62         501\n",
      "8       2003         PEC  Pencil 5B       100      0.73         503\n",
      "9       2004         PEC  Pencil 6B       500      0.47         502\n",
      "\n",
      "\n"
     ]
    }
   ],
   "source": [
    "from flask import Flask, render_template, jsonify\n",
    "import pymysql.cursors #initialise PyMysql module\n",
    "import pandas as pd # initialise pandas module *********\n",
    "connection = pymysql.connect(host=\"localhost\", \n",
    "                     user=\"root\",   \n",
    "                     passwd=\"root\", \n",
    "                     db=\"southwind\",   \n",
    "                     charset='utf8mb4',\n",
    "                     cursorclass=pymysql.cursors.DictCursor)\n",
    "with connection.cursor() as cursor:\n",
    "        # Execute SQL Select command in Python using PyMysql built-in methods \n",
    "        sql = \"SELECT * FROM products\"\n",
    "        cursor.execute(sql)\n",
    "        # Display results\n",
    "        result = cursor.fetchall()\n",
    "print(result)\n",
    "print(pd.DataFrame(result)) # ********\n",
    "print('\\n')\n",
    "connection.close()"
   ]
  },
  {
   "cell_type": "markdown",
   "metadata": {},
   "source": [
    "# Create MySQL Table"
   ]
  },
  {
   "cell_type": "code",
   "execution_count": 96,
   "metadata": {},
   "outputs": [
    {
     "name": "stdout",
     "output_type": "stream",
     "text": [
      "Table successfully created.\n"
     ]
    }
   ],
   "source": [
    "import pymysql.cursors #initialise PyMysql module\n",
    "import pandas as pd # initialise pandas module\n",
    "connection = pymysql.connect(host=\"localhost\", \n",
    "                     user=\"root\",   \n",
    "                     passwd=\"root\", \n",
    "                     db=\"abc\",   \n",
    "                     charset='utf8mb4',\n",
    "                     cursorclass=pymysql.cursors.DictCursor)\n",
    "cursor = connection.cursor()\n",
    "sql1 = \"drop table if exists test\"\n",
    "sql2 = \"CREATE TABLE test (productID int(10) unsigned NOT NULL,productCode char(3) NOT NULL DEFAULT '',name varchar(30) NOT NULL DEFAULT '',quantity int(10) unsigned NOT NULL DEFAULT 0,price decimal(7,2) NOT NULL DEFAULT 99999.99,supplierID int(10) unsigned NOT NULL)\"\n",
    "try:\n",
    "    cursor.execute(sql1)\n",
    "    cursor.execute(sql2)\n",
    "    print(\"Table successfully created.\")\n",
    "except Exception as e:\n",
    "    print(\"Exception occurred.\",e)\n",
    "connection.close()"
   ]
  },
  {
   "cell_type": "markdown",
   "metadata": {},
   "source": [
    "# Create MySQL Record"
   ]
  },
  {
   "cell_type": "code",
   "execution_count": 32,
   "metadata": {},
   "outputs": [
    {
     "name": "stdout",
     "output_type": "stream",
     "text": [
      "Entry successfully inserted.\n",
      "\n",
      "\n",
      "   productID productCode        name  quantity  price  supplierID\n",
      "0       2020         PEN  Pen Purple       750  22.99         503\n",
      "1       2021         PEN  Pen Purple       700  22.99         503\n",
      "2       2022         PEN   Pen Black       400  25.50         501\n",
      "3       2028         PEN  Pen Purple       600  15.50         503\n",
      "4       2029         PEN   Pen Black       400  25.50         501\n",
      "\n",
      "\n"
     ]
    }
   ],
   "source": [
    "import pandas as pd # initialise pandas module\n",
    "connection = pymysql.connect(host=\"localhost\", \n",
    "                     user=\"root\",   \n",
    "                     passwd=\"root\", \n",
    "                     db=\"abc\",   \n",
    "                     charset='utf8mb4',\n",
    "                     cursorclass=pymysql.cursors.DictCursor)\n",
    "cursor = connection.cursor()\n",
    "# Execute SQL Insert command in Python using PyMysql built-in methods \n",
    "sql = \"INSERT INTO test VALUES('2028','PEN','Pen Purple', 600,15.5, 503),('2029','PEN','Pen Black', 400,25.5, 501);\"\n",
    "try:\n",
    "    cursor.execute(sql)\n",
    "    connection.commit()\n",
    "    print(\"Entry successfully inserted.\")\n",
    "except Exception as e:\n",
    "    print(\"Exception occurred.\",e)\n",
    "# Display results\n",
    "sql = \"SELECT * FROM test\"\n",
    "cursor.execute(sql)\n",
    "result = cursor.fetchall()\n",
    "connection.close()\n",
    "# dataset = []\n",
    "# temp = {}\n",
    "# i = 0\n",
    "# for row in result:\n",
    "#     temp[i] = row\n",
    "#     dataset.append(temp[i])\n",
    "#     i = i + 1\n",
    "print('\\n')\n",
    "print(pd.DataFrame(result)) # additional command\n",
    "print('\\n')"
   ]
  },
  {
   "cell_type": "markdown",
   "metadata": {},
   "source": [
    "# Update MySQL Record"
   ]
  },
  {
   "cell_type": "code",
   "execution_count": 34,
   "metadata": {},
   "outputs": [
    {
     "name": "stdout",
     "output_type": "stream",
     "text": [
      "Entry successfully updated.\n",
      "\n",
      "\n",
      "   productID productCode        name  quantity  price  supplierID\n",
      "0       2020         PEN  Pen Purple       750  22.99         503\n",
      "1       2021         PEN  Pen Purple       700  22.99         503\n",
      "2       2022         PEN   Pen Black       400  25.50         501\n",
      "3       2028         PEN  Pen Purple       700  32.99         503\n",
      "4       2029         PEN   Pen Black       400  25.50         501\n",
      "\n",
      "\n"
     ]
    }
   ],
   "source": [
    "import pandas as pd # initialise pandas module\n",
    "connection = pymysql.connect(host=\"localhost\", \n",
    "                     user=\"root\",   \n",
    "                     passwd=\"root\", \n",
    "                     db=\"abc\",   \n",
    "                     charset='utf8mb4',\n",
    "                     cursorclass=pymysql.cursors.DictCursor)\n",
    "cursor = connection.cursor()\n",
    "# Execute SQL update command in Python using PyMysql built-in methods \n",
    "sql = \"UPDATE test SET quantity = quantity + 50, price = 32.99 WHERE productID = 2028;\"\n",
    "try:\n",
    "    cursor.execute(sql)\n",
    "    connection.commit()\n",
    "    print(\"Entry successfully updated.\")\n",
    "except Exception as e:\n",
    "    print(\"Exception occurred.\",e)\n",
    "# Display results\n",
    "sql = \"SELECT * FROM test\"\n",
    "cursor.execute(sql)\n",
    "result = cursor.fetchall()\n",
    "connection.close()\n",
    "print('\\n')\n",
    "print(pd.DataFrame(result)) # additional command\n",
    "print('\\n')"
   ]
  },
  {
   "cell_type": "markdown",
   "metadata": {},
   "source": [
    "# Delete MySQL Record"
   ]
  },
  {
   "cell_type": "code",
   "execution_count": null,
   "metadata": {},
   "outputs": [],
   "source": [
    "import pandas as pd # initialise pandas module\n",
    "connection = pymysql.connect(host=\"localhost\", \n",
    "                     user=\"root\",   \n",
    "                     passwd=\"root\", \n",
    "                     db=\"abc\",   \n",
    "                     charset='utf8mb4',\n",
    "                     cursorclass=pymysql.cursors.DictCursor)\n",
    "cursor = connection.cursor()\n",
    "# Execute SQL delete command in Python using PyMysql built-in methods \n",
    "# sql = \"DELETE FROM test WHERE name LIKE 'Pen Black';\"\n",
    "sql = \"DELETE FROM test WHERE productID = 2028;\"\n",
    "try:\n",
    "    cursor.execute(sql)\n",
    "    connection.commit()\n",
    "    print(\"Entry successfully deleted.\")\n",
    "except Exception as e:\n",
    "    print(\"Exception occurred.\",e)\n",
    "# Display results\n",
    "sql = \"SELECT * FROM test\"\n",
    "cursor.execute(sql)\n",
    "result = cursor.fetchall()\n",
    "connection.close()\n",
    "print('\\n')\n",
    "print(pd.DataFrame(result)) # additional command\n",
    "print('\\n')"
   ]
  }
 ],
 "metadata": {
  "kernelspec": {
   "display_name": "Python 3",
   "language": "python",
   "name": "python3"
  },
  "language_info": {
   "codemirror_mode": {
    "name": "ipython",
    "version": 3
   },
   "file_extension": ".py",
   "mimetype": "text/x-python",
   "name": "python",
   "nbconvert_exporter": "python",
   "pygments_lexer": "ipython3",
   "version": "3.7.4"
  }
 },
 "nbformat": 4,
 "nbformat_minor": 2
}
