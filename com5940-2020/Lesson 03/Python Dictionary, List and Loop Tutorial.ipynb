{
 "cells": [
  {
   "cell_type": "code",
   "execution_count": 93,
   "metadata": {},
   "outputs": [],
   "source": [
    "student1 = {'id':'1111','name':'David Chan'} # Python dictionary is similar to JavaScript object\n",
    "student2 = {'id':'1112','name':'Peter Lee'}"
   ]
  },
  {
   "cell_type": "code",
   "execution_count": 94,
   "metadata": {},
   "outputs": [
    {
     "name": "stdout",
     "output_type": "stream",
     "text": [
      "{'id': '1111', 'name': 'David Chan'} {'id': '1112', 'name': 'Peter Lee'}\n"
     ]
    }
   ],
   "source": [
    "print(student1,student2) # similar to JavaScript document.write"
   ]
  },
  {
   "cell_type": "code",
   "execution_count": 80,
   "metadata": {},
   "outputs": [
    {
     "name": "stdout",
     "output_type": "stream",
     "text": [
      "[{'id': '1111', 'name': 'David Chan'}, {'id': '1112', 'name': 'Peter Lee'}]\n"
     ]
    }
   ],
   "source": [
    "students = []                # Python list is similar to JavaScript array\n",
    "students.append(student1)    # Python list append is similar to JavaScript array push\n",
    "students.append(student2)\n",
    "print(students) # print out a list of dictionaries "
   ]
  },
  {
   "cell_type": "code",
   "execution_count": 23,
   "metadata": {},
   "outputs": [
    {
     "name": "stdout",
     "output_type": "stream",
     "text": [
      "{'id': '1111', 'name': 'David Chan'}\n",
      "{'id': '1112', 'name': 'Peter Lee'}\n"
     ]
    }
   ],
   "source": [
    "for i in students: # Python for loop is similar to JavaScript for (i=0;i<students.length;i++) {document.write...}\n",
    "    print(i)       # print out a list of dictionaries"
   ]
  },
  {
   "cell_type": "code",
   "execution_count": 96,
   "metadata": {},
   "outputs": [
    {
     "name": "stdout",
     "output_type": "stream",
     "text": [
      "{'id': '1111', 'name': 'David Chan'}\n",
      "id : 1111\n",
      "name : David Chan\n",
      "{'id': '1112', 'name': 'Peter Lee'}\n",
      "id : 1112\n",
      "name : Peter Lee\n"
     ]
    }
   ],
   "source": [
    "key = 0\n",
    "for i in students:\n",
    "    print(i)              # first loop prints out individual dictionary\n",
    "    for key in i:           # second loop within first loop prints out individual element within each dictionary\n",
    "        print(key, ':', i[key])"
   ]
  },
  {
   "cell_type": "code",
   "execution_count": 97,
   "metadata": {},
   "outputs": [
    {
     "name": "stdout",
     "output_type": "stream",
     "text": [
      "[{'productID': 1001, 'productCode': 'PEN', 'name': 'Pen Red', 'quantity': 5000, 'price': Decimal('1.23'), 'supplierID': 501}, {'productID': 1002, 'productCode': 'PEN', 'name': 'Pen Blue', 'quantity': 8000, 'price': Decimal('1.25'), 'supplierID': 501}, {'productID': 1003, 'productCode': 'PEN', 'name': 'Pen Black', 'quantity': 2000, 'price': Decimal('1.25'), 'supplierID': 501}, {'productID': 1004, 'productCode': 'PEC', 'name': 'Pencil 2B', 'quantity': 10000, 'price': Decimal('0.48'), 'supplierID': 501}, {'productID': 1005, 'productCode': 'PEC', 'name': 'Pencil 2H', 'quantity': 8000, 'price': Decimal('0.49'), 'supplierID': 502}, {'productID': 1006, 'productCode': 'PEC', 'name': 'Pencil HB', 'quantity': 0, 'price': Decimal('99999.99'), 'supplierID': 501}, {'productID': 2001, 'productCode': 'PEC', 'name': 'Pencil 3B', 'quantity': 500, 'price': Decimal('0.52'), 'supplierID': 503}, {'productID': 2002, 'productCode': 'PEC', 'name': 'Pencil 4B', 'quantity': 200, 'price': Decimal('0.62'), 'supplierID': 501}, {'productID': 2003, 'productCode': 'PEC', 'name': 'Pencil 5B', 'quantity': 100, 'price': Decimal('0.73'), 'supplierID': 503}, {'productID': 2004, 'productCode': 'PEC', 'name': 'Pencil 6B', 'quantity': 500, 'price': Decimal('0.47'), 'supplierID': 502}]\n",
      "[{'productID': 1001, 'productCode': 'PEN', 'name': 'Pen Red', 'quantity': 5000, 'price': Decimal('1.23'), 'supplierID': 501}, {'productID': 1002, 'productCode': 'PEN', 'name': 'Pen Blue', 'quantity': 8000, 'price': Decimal('1.25'), 'supplierID': 501}, {'productID': 1003, 'productCode': 'PEN', 'name': 'Pen Black', 'quantity': 2000, 'price': Decimal('1.25'), 'supplierID': 501}, {'productID': 1004, 'productCode': 'PEC', 'name': 'Pencil 2B', 'quantity': 10000, 'price': Decimal('0.48'), 'supplierID': 501}, {'productID': 1005, 'productCode': 'PEC', 'name': 'Pencil 2H', 'quantity': 8000, 'price': Decimal('0.49'), 'supplierID': 502}, {'productID': 1006, 'productCode': 'PEC', 'name': 'Pencil HB', 'quantity': 0, 'price': Decimal('99999.99'), 'supplierID': 501}, {'productID': 2001, 'productCode': 'PEC', 'name': 'Pencil 3B', 'quantity': 500, 'price': Decimal('0.52'), 'supplierID': 503}, {'productID': 2002, 'productCode': 'PEC', 'name': 'Pencil 4B', 'quantity': 200, 'price': Decimal('0.62'), 'supplierID': 501}, {'productID': 2003, 'productCode': 'PEC', 'name': 'Pencil 5B', 'quantity': 100, 'price': Decimal('0.73'), 'supplierID': 503}, {'productID': 2004, 'productCode': 'PEC', 'name': 'Pencil 6B', 'quantity': 500, 'price': Decimal('0.47'), 'supplierID': 502}]\n"
     ]
    }
   ],
   "source": [
    "from flask import Flask, render_template, jsonify\n",
    "import pymysql.cursors #initialise PyMysql module\n",
    "import pandas as pd # initialise pandas module *********\n",
    "connection = pymysql.connect(host=\"localhost\", \n",
    "                     user=\"root\",   \n",
    "                     passwd=\"root\", \n",
    "                     db=\"southwind\",   \n",
    "                     charset='utf8mb4',\n",
    "                     cursorclass=pymysql.cursors.DictCursor)\n",
    "with connection.cursor() as cursor:\n",
    "        # Execute SQL Select command in Python using PyMysql built-in methods \n",
    "        sql = \"SELECT * FROM products\"\n",
    "        cursor.execute(sql)\n",
    "        # Display results\n",
    "        result = cursor.fetchall()\n",
    "print(result)\n",
    "dataset = []\n",
    "temp = {}\n",
    "i = 0\n",
    "for row in result:\n",
    "     temp[i] = row\n",
    "     dataset.append(temp[i])\n",
    "     i = i + 1\n",
    "print(dataset)\n",
    "connection.close()"
   ]
  },
  {
   "cell_type": "code",
   "execution_count": 86,
   "metadata": {},
   "outputs": [
    {
     "name": "stdout",
     "output_type": "stream",
     "text": [
      "[{'productID': 1001, 'productCode': 'PEN', 'name': 'Pen Red', 'quantity': 5000, 'price': Decimal('1.23'), 'supplierID': 501}, {'productID': 1002, 'productCode': 'PEN', 'name': 'Pen Blue', 'quantity': 8000, 'price': Decimal('1.25'), 'supplierID': 501}, {'productID': 1003, 'productCode': 'PEN', 'name': 'Pen Black', 'quantity': 2000, 'price': Decimal('1.25'), 'supplierID': 501}, {'productID': 1004, 'productCode': 'PEC', 'name': 'Pencil 2B', 'quantity': 10000, 'price': Decimal('0.48'), 'supplierID': 501}, {'productID': 1005, 'productCode': 'PEC', 'name': 'Pencil 2H', 'quantity': 8000, 'price': Decimal('0.49'), 'supplierID': 502}, {'productID': 1006, 'productCode': 'PEC', 'name': 'Pencil HB', 'quantity': 0, 'price': Decimal('99999.99'), 'supplierID': 501}, {'productID': 2001, 'productCode': 'PEC', 'name': 'Pencil 3B', 'quantity': 500, 'price': Decimal('0.52'), 'supplierID': 503}, {'productID': 2002, 'productCode': 'PEC', 'name': 'Pencil 4B', 'quantity': 200, 'price': Decimal('0.62'), 'supplierID': 501}, {'productID': 2003, 'productCode': 'PEC', 'name': 'Pencil 5B', 'quantity': 100, 'price': Decimal('0.73'), 'supplierID': 503}, {'productID': 2004, 'productCode': 'PEC', 'name': 'Pencil 6B', 'quantity': 500, 'price': Decimal('0.47'), 'supplierID': 502}]\n",
      "\r\n",
      "\n",
      "productID : 1001\n",
      "productCode : PEN\n",
      "name : Pen Red\n",
      "quantity : 5000\n",
      "price : 1.23\n",
      "supplierID : 501\n",
      "\r\n",
      "\n",
      "productID : 1002\n",
      "productCode : PEN\n",
      "name : Pen Blue\n",
      "quantity : 8000\n",
      "price : 1.25\n",
      "supplierID : 501\n",
      "\r\n",
      "\n",
      "productID : 1003\n",
      "productCode : PEN\n",
      "name : Pen Black\n",
      "quantity : 2000\n",
      "price : 1.25\n",
      "supplierID : 501\n",
      "\r\n",
      "\n",
      "productID : 1004\n",
      "productCode : PEC\n",
      "name : Pencil 2B\n",
      "quantity : 10000\n",
      "price : 0.48\n",
      "supplierID : 501\n",
      "\r\n",
      "\n",
      "productID : 1005\n",
      "productCode : PEC\n",
      "name : Pencil 2H\n",
      "quantity : 8000\n",
      "price : 0.49\n",
      "supplierID : 502\n",
      "\r\n",
      "\n",
      "productID : 1006\n",
      "productCode : PEC\n",
      "name : Pencil HB\n",
      "quantity : 0\n",
      "price : 99999.99\n",
      "supplierID : 501\n",
      "\r\n",
      "\n",
      "productID : 2001\n",
      "productCode : PEC\n",
      "name : Pencil 3B\n",
      "quantity : 500\n",
      "price : 0.52\n",
      "supplierID : 503\n",
      "\r\n",
      "\n",
      "productID : 2002\n",
      "productCode : PEC\n",
      "name : Pencil 4B\n",
      "quantity : 200\n",
      "price : 0.62\n",
      "supplierID : 501\n",
      "\r\n",
      "\n",
      "productID : 2003\n",
      "productCode : PEC\n",
      "name : Pencil 5B\n",
      "quantity : 100\n",
      "price : 0.73\n",
      "supplierID : 503\n",
      "\r\n",
      "\n",
      "productID : 2004\n",
      "productCode : PEC\n",
      "name : Pencil 6B\n",
      "quantity : 500\n",
      "price : 0.47\n",
      "supplierID : 502\n",
      "\r\n",
      "\n"
     ]
    }
   ],
   "source": [
    "from flask import Flask, render_template, jsonify\n",
    "import pymysql.cursors #initialise PyMysql module\n",
    "import pandas as pd # initialise pandas module *********\n",
    "connection = pymysql.connect(host=\"localhost\", \n",
    "                     user=\"root\",   \n",
    "                     passwd=\"root\", \n",
    "                     db=\"southwind\",   \n",
    "                     charset='utf8mb4',\n",
    "                     cursorclass=pymysql.cursors.DictCursor)\n",
    "with connection.cursor() as cursor:\n",
    "        # Execute SQL Select command in Python using PyMysql built-in methods \n",
    "        sql = \"SELECT * FROM products\"\n",
    "        cursor.execute(sql)\n",
    "        # Display results\n",
    "        result = cursor.fetchall()\n",
    "print(result)\n",
    "print('\\r\\n')\n",
    "dataset = []\n",
    "\n",
    "# key = 0\n",
    "# for i in students:\n",
    "#    print(i)                # first loop prints out individual dictionary\n",
    "#    for key in i:           # second loop within first loop prints out individual element within each dictionary\n",
    "#        print(key, ':', i[key])\n",
    "\n",
    "key = 0\n",
    "for row in result:\n",
    "     for key in row:\n",
    "            print(key,':',row[key])\n",
    "     print('\\r\\n')\n",
    "connection.close()"
   ]
  },
  {
   "cell_type": "code",
   "execution_count": 98,
   "metadata": {},
   "outputs": [
    {
     "name": "stdout",
     "output_type": "stream",
     "text": [
      "{'records': [{'id': 'recVCPApuUz6hHtja', 'fields': {'productID': '1006', 'productCode': 'PEC', 'name': 'Pencil HB', 'quantity': 0, 'price': 99999.99, 'supplierID': '501', 'link-to-product-type': ['rechIqwrLbYB8DxGM'], 'record_id': 'recVCPApuUz6hHtja'}, 'createdTime': '2020-01-18T10:34:59.000Z'}, {'id': 'rec3a5OT6aiD6BtFi', 'fields': {'productID': '2001', 'productCode': 'PEC', 'name': 'Pencil 3B', 'quantity': 500, 'price': 0.52, 'supplierID': '503', 'link-to-product-type': ['rechIqwrLbYB8DxGM'], 'record_id': 'rec3a5OT6aiD6BtFi'}, 'createdTime': '2020-01-18T10:34:59.000Z'}, {'id': 'recznH6EiyFvXfVun', 'fields': {'productID': '2004', 'productCode': 'PEC', 'name': 'Pencil 6B', 'quantity': 500, 'price': 0.47, 'supplierID': '502', 'link-to-product-type': ['rechIqwrLbYB8DxGM'], 'record_id': 'recznH6EiyFvXfVun'}, 'createdTime': '2020-01-18T10:34:59.000Z'}, {'id': 'reczpU2sKSjXtwhZ3', 'fields': {'productID': '1002', 'productCode': 'PEN', 'name': 'Pen Blue', 'quantity': 8000, 'price': 1.25, 'supplierID': '501', 'link-to-product-type': ['rec08NOK4qvU6QYwj'], 'record_id': 'reczpU2sKSjXtwhZ3'}, 'createdTime': '2020-01-18T10:34:59.000Z'}, {'id': 'recK73LOkp33AfY8Z', 'fields': {'productID': '1004', 'productCode': 'PEC', 'name': 'Pencil 2B', 'quantity': 10000, 'price': 0.48, 'supplierID': '501', 'link-to-product-type': ['rechIqwrLbYB8DxGM'], 'record_id': 'recK73LOkp33AfY8Z'}, 'createdTime': '2020-01-18T10:34:59.000Z'}, {'id': 'recNRJL0CXdzvyr1M', 'fields': {'productID': '2002', 'productCode': 'PEC', 'name': 'Pencil 4B', 'quantity': 200, 'price': 0.62, 'supplierID': '501', 'link-to-product-type': ['rechIqwrLbYB8DxGM'], 'record_id': 'recNRJL0CXdzvyr1M'}, 'createdTime': '2020-01-18T10:34:59.000Z'}, {'id': 'recSuYjfVpVEPcP0L', 'fields': {'productID': '1001', 'productCode': 'PEN', 'name': 'Pen Red', 'quantity': 5000, 'price': 1.23, 'supplierID': '501', 'link-to-product-type': ['rec08NOK4qvU6QYwj'], 'record_id': 'recSuYjfVpVEPcP0L'}, 'createdTime': '2020-01-18T10:34:59.000Z'}, {'id': 'recS8ewzvtj2qcBHi', 'fields': {'productID': '2003', 'productCode': 'PEC', 'name': 'Pencil 5B', 'quantity': 100, 'price': 0.73, 'supplierID': '503', 'link-to-product-type': ['rechIqwrLbYB8DxGM'], 'record_id': 'recS8ewzvtj2qcBHi'}, 'createdTime': '2020-01-18T10:34:59.000Z'}, {'id': 'recmK3Tc4WOZI83mo', 'fields': {'productID': '1003', 'productCode': 'PEN', 'name': 'Pen Black', 'quantity': 2000, 'price': 1.25, 'supplierID': '501', 'link-to-product-type': ['rec08NOK4qvU6QYwj'], 'record_id': 'recmK3Tc4WOZI83mo'}, 'createdTime': '2020-01-18T10:34:59.000Z'}, {'id': 'recp2FHV7XmUV16f9', 'fields': {'productID': '1005', 'productCode': 'PEC', 'name': 'Pencil 2H', 'quantity': 8000, 'price': 0.49, 'supplierID': '502', 'link-to-product-type': ['rechIqwrLbYB8DxGM'], 'record_id': 'recp2FHV7XmUV16f9'}, 'createdTime': '2020-01-18T10:34:59.000Z'}]}\n"
     ]
    }
   ],
   "source": [
    "import requests\n",
    "\n",
    "headers = {\n",
    "'Authorization': 'Bearer keycj6dRwXwYLEjiv',\n",
    "}\n",
    "\n",
    "params = (\n",
    "('view', 'Main'),\n",
    ")\n",
    "\n",
    "result = requests.get('https://api.airtable.com/v0/appVFIVS0NkWT41fM/products?api_key=keycj6dRwXwYLEjiv&sortField=_createdTime&sortDirection=desc', headers=headers, params=params)\n",
    "dict = result.json()\n",
    "print(dict)"
   ]
  },
  {
   "cell_type": "code",
   "execution_count": 92,
   "metadata": {},
   "outputs": [
    {
     "name": "stdout",
     "output_type": "stream",
     "text": [
      "\r\n",
      "\n",
      "product ID: 1006 product CODE: PEC name: Pencil HB\n",
      "product ID: 2001 product CODE: PEC name: Pencil 3B\n",
      "product ID: 2004 product CODE: PEC name: Pencil 6B\n",
      "product ID: 1002 product CODE: PEN name: Pen Blue\n",
      "product ID: 1004 product CODE: PEC name: Pencil 2B\n",
      "product ID: 2002 product CODE: PEC name: Pencil 4B\n",
      "product ID: 1001 product CODE: PEN name: Pen Red\n",
      "product ID: 2003 product CODE: PEC name: Pencil 5B\n",
      "product ID: 1003 product CODE: PEN name: Pen Black\n",
      "product ID: 1005 product CODE: PEC name: Pencil 2H\n"
     ]
    }
   ],
   "source": [
    "import requests\n",
    "\n",
    "headers = {\n",
    "'Authorization': 'Bearer keycj6dRwXwYLEjiv',\n",
    "}\n",
    "\n",
    "params = (\n",
    "('view', 'Main'),\n",
    ")\n",
    "\n",
    "r = requests.get('https://api.airtable.com/v0/appVFIVS0NkWT41fM/products?api_key=keycj6dRwXwYLEjiv&sortField=_createdTime&sortDirection=desc', headers=headers, params=params)\n",
    "dict = r.json()\n",
    "# print(dict)\n",
    "print('\\r\\n')\n",
    "for i in dict['records']:\n",
    "     rec_dict = i['fields'] \n",
    "     print('product ID:', rec_dict['productID'],'product CODE:', rec_dict['productCode'],'name:',rec_dict['name'])"
   ]
  }
 ],
 "metadata": {
  "kernelspec": {
   "display_name": "Python 3",
   "language": "python",
   "name": "python3"
  },
  "language_info": {
   "codemirror_mode": {
    "name": "ipython",
    "version": 3
   },
   "file_extension": ".py",
   "mimetype": "text/x-python",
   "name": "python",
   "nbconvert_exporter": "python",
   "pygments_lexer": "ipython3",
   "version": "3.7.4"
  }
 },
 "nbformat": 4,
 "nbformat_minor": 2
}
