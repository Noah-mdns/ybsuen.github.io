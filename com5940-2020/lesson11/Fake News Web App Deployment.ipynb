{
 "cells": [
  {
   "cell_type": "code",
   "execution_count": 1,
   "metadata": {},
   "outputs": [],
   "source": [
    "#!pip install newspaper3k\n",
    "# import nltk\n",
    "# nltk.download('punkt')"
   ]
  },
  {
   "cell_type": "code",
   "execution_count": null,
   "metadata": {},
   "outputs": [
    {
     "name": "stderr",
     "output_type": "stream",
     "text": [
      "/Users/yssuen/opt/anaconda3/lib/python3.7/site-packages/sklearn/externals/joblib/__init__.py:15: DeprecationWarning: sklearn.externals.joblib is deprecated in 0.21 and will be removed in 0.23. Please import this functionality directly from joblib, which can be installed with: pip install joblib. If this warning is raised when loading pickled models, you may need to re-serialize those models with scikit-learn 0.21+.\n",
      "  warnings.warn(msg, category=DeprecationWarning)\n",
      " * Running on http://localhost:9019/ (Press CTRL+C to quit)\n",
      "127.0.0.1 - - [20/Apr/2020 18:08:33] \"\u001b[37mGET / HTTP/1.1\u001b[0m\" 200 -\n"
     ]
    }
   ],
   "source": [
    "#Importing the Libraries\n",
    "import numpy as np\n",
    "from flask import Flask, request,render_template\n",
    "from flask_cors import CORS\n",
    "import os\n",
    "from sklearn.externals import joblib\n",
    "import pickle\n",
    "import newspaper\n",
    "from newspaper import Article\n",
    "import urllib\n",
    "\n",
    "#Loading Flask and assigning the model variable\n",
    "app = Flask(__name__)\n",
    "CORS(app)\n",
    "\n",
    "with open('model.pickle', 'rb') as handle:\n",
    "\tmodel = pickle.load(handle)\n",
    "\n",
    "@app.route('/')\n",
    "def main():\n",
    "    return render_template('main.html')\n",
    "\n",
    "#Receiving the input url from the user and using Web Scrapping to extract the news content\n",
    "@app.route('/predict',methods=['GET','POST'])\n",
    "def predict():\n",
    "    url =request.get_data(as_text=True)[5:]\n",
    "    url = urllib.parse.unquote(url)\n",
    "    article = Article(str(url))\n",
    "    article.download()\n",
    "    article.parse()\n",
    "    article.nlp()\n",
    "    news = article.summary\n",
    "    #Passing the news article to the model and returing whether it is Fake or Real\n",
    "    pred = model.predict([news])\n",
    "    return render_template('main.html', prediction_text='The news is \"{}\"'.format(pred[0]))\n",
    "\n",
    "if __name__ == '__main__':\n",
    "    from werkzeug.serving import run_simple\n",
    "    run_simple('localhost', 9019, app)\n",
    "# if __name__ == '__main__':\n",
    "   # app.run(debug = True)"
   ]
  },
  {
   "cell_type": "code",
   "execution_count": null,
   "metadata": {},
   "outputs": [],
   "source": []
  }
 ],
 "metadata": {
  "kernelspec": {
   "display_name": "Python 3",
   "language": "python",
   "name": "python3"
  },
  "language_info": {
   "codemirror_mode": {
    "name": "ipython",
    "version": 3
   },
   "file_extension": ".py",
   "mimetype": "text/x-python",
   "name": "python",
   "nbconvert_exporter": "python",
   "pygments_lexer": "ipython3",
   "version": "3.7.4"
  }
 },
 "nbformat": 4,
 "nbformat_minor": 2
}
